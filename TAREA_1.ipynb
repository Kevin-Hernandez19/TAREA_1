{
  "nbformat": 4,
  "nbformat_minor": 0,
  "metadata": {
    "colab": {
      "name": "TAREA 1.ipynb",
      "provenance": []
    },
    "kernelspec": {
      "name": "python3",
      "display_name": "Python 3"
    }
  },
  "cells": [
    {
      "cell_type": "markdown",
      "metadata": {
        "id": "gtSolWUt3Q_t"
      },
      "source": [
        "**PROBLEMA 1**\n",
        "\n",
        "Desarrollar un programa que lea una variable de tipo entera value, indique si es un numero par o impar."
      ]
    },
    {
      "cell_type": "code",
      "metadata": {
        "id": "syPkFGsMx7cW"
      },
      "source": [
        "x=int(input(\"Introduzca un numero: \"))\n",
        "if x%2==0:\n",
        "  print(\"El numero es par\")\n",
        "else:\n",
        "    print(\"El numero es impar\")"
      ],
      "execution_count": null,
      "outputs": []
    },
    {
      "cell_type": "markdown",
      "metadata": {
        "id": "HzJvVf7d4E-o"
      },
      "source": [
        "**PROBLEMA 2**\n",
        "\n",
        "Desarrolle un programa en el que el usuario introduzca una cadena de caracteres y un numero entero, despues el programa debe de imprimir la cadena de caracteres tantas veces como el nuemero entero\n"
      ]
    },
    {
      "cell_type": "code",
      "metadata": {
        "id": "Uf3xtQ0x4SdQ"
      },
      "source": [
        "c=input(\"Añadir frase: \")\n",
        "y=int(input(\"Introduzca un numero: \"))\n",
        "contador=1\n",
        "while contador<=y:\n",
        "  contador=contador+1\n",
        "  print(c)"
      ],
      "execution_count": null,
      "outputs": []
    },
    {
      "cell_type": "markdown",
      "metadata": {
        "id": "IlkoF_fV5Ar9"
      },
      "source": [
        "**PROBLEMA 3**\n",
        "\n",
        "Escribir una funcion que reciba como argumentos el numero de horas y el costo por hora dejarlo como argumento predefinido en 150 la funcion debe de regresar el pago del empleado en un\n",
        "dıa, en una semana (5 dıas) y en un mes (20 dıas)."
      ]
    },
    {
      "cell_type": "code",
      "metadata": {
        "id": "osXS5zeq5Pzz"
      },
      "source": [
        "t=int(input(\"Numero de horas trabajadas: \"))\n",
        "cost=150\n",
        "d=t*cost\n",
        "s=(t*cost)*5\n",
        "m=(t*cost)*20\n",
        "print(\"El pago por un dia fue de: \",d,\"pesos\")\n",
        "print(\"El pago por una semana fue de: \",s,\"pesos\")\n",
        "print(\"El pago por un mes fue de: \",m,\"pesos\")"
      ],
      "execution_count": null,
      "outputs": []
    },
    {
      "cell_type": "markdown",
      "metadata": {
        "id": "xT2XtOQ56wQM"
      },
      "source": [
        "**PROBLEMA 4**\n",
        "\n",
        "Escribir el codigo de una calculadora, que inicialmente muestre el menu y dependiendo de la opcion elegida por el usuario se desarrolle la operacion, observe que en la division el denominador no puede ser cero, en caso que sea ası, debe de entrar en un bucle while que este leyendo el denominador de nuevo hasta que este sea distinto de cero"
      ]
    },
    {
      "cell_type": "code",
      "metadata": {
        "id": "-ULB5tKh7Db8"
      },
      "source": [
        "print(\"CALCULADORA\")\n",
        "print(\"MENU\")\n",
        "reslt=\"\"\n",
        "while reslt!=\"no\":\n",
        "  menu=[\"1)SUMA\",\"2)RESTA\",\"3)MULTIPLICACION\",\"4)DIVISION\"]\n",
        "  print(menu)\n",
        "  print(\"Selecccione una opcion\")\n",
        "  menu=int(input())\n",
        "  while menu>=5:\n",
        "    print(\"Seleccione una opcion\")\n",
        "    menu=int(input())\n",
        "  if menu==1:\n",
        "      print(\"Introduzca el primer valor: \")\n",
        "      a=float(input())\n",
        "      print(\"Introduzca el segundo valor: \")\n",
        "      b=float(input())\n",
        "      A=a+b\n",
        "      print(\"La suma es igual a: \",A)\n",
        "  elif menu==2:\n",
        "      print(\"Introduzca el primer valor: \")\n",
        "      a=float(input())\n",
        "      print(\"Introduzca el segundo valor: \")\n",
        "      b=float(input())\n",
        "      A=a-b\n",
        "      print(\"La resta es igual a: \",A)\n",
        "  elif menu==3:\n",
        "      print(\"Introduzca el primer valor: \")\n",
        "      a=float(input())\n",
        "      print(\"Introduzca el segundo valor: \")\n",
        "      b=float(input())\n",
        "      A=a*b\n",
        "      print(\"La resta es igual a: \",A)\n",
        "  elif menu==4:\n",
        "      print(\"Introduzca el primer valor: \")\n",
        "      a=float(input())\n",
        "      print(\"Introduzca el segundo valor: \")\n",
        "      b=float(input())\n",
        "      \n",
        "      while b==0:\n",
        "        print(\"Introduzca otro numero\")\n",
        "        b=float(input())\n",
        "        A=a/b\n",
        "        print(\"La division es igual a: \",A)\n",
        "  print(\"Desea realizar otra operacion\")\n",
        "  reslt=input()\n",
        "    \n"
      ],
      "execution_count": null,
      "outputs": []
    },
    {
      "cell_type": "markdown",
      "metadata": {
        "id": "1AUF0zh_-8cu"
      },
      "source": [
        "**PROBLEMA 5**\n",
        "\n",
        "Una tienda de juguetes tiene dos productos estrella, un payaso y un juego de mesa, el payaso pesa 150 gr y el juego de mesa pesa 170 gr. Hacer una funcion que reciba el numero de payasos\n",
        "y el numero de juegos de mesa por pedido, si el peso total del pedido es mayor a 10 kg, debe de mandar error, debe de inidicar pro cuantos gramos se paso el envıo y debe de regresar False\n",
        "al programa principal."
      ]
    },
    {
      "cell_type": "code",
      "metadata": {
        "id": "dEzSWCIx-PUG"
      },
      "source": [
        "print(\"Tienda de juguetes\")\n",
        "ja=150\n",
        "oca=170\n",
        "peso=100000\n",
        "while peso>10000:\n",
        "  print(\"Ingrese el total de payasos solicitados: \")\n",
        "  pay=int(input())\n",
        "  print(\"Ingrese el total de juegos de mesa solicitados: \")\n",
        "  mesa=int(input())\n",
        "  peso=((jaja*pay)+(oca*mesa))\n",
        "  print(\"El peso total del pedido es de: \",peso)\n",
        "  if peso>10000:\n",
        "    print(peso<10000)\n",
        "    R=print(\"El peso se excedio por: \",peso-10000)\n",
        "    break"
      ],
      "execution_count": null,
      "outputs": []
    },
    {
      "cell_type": "markdown",
      "metadata": {
        "id": "URM39eV5CEHF"
      },
      "source": [
        "**PROBLEMA 6**"
      ]
    },
    {
      "cell_type": "code",
      "metadata": {
        "id": "fabvPozyCZzD"
      },
      "source": [
        "print(\"Salario\")\n",
        "print(\"Ingrese su salario: \")\n",
        "sal=int(input())\n",
        "if sal<=10000:\n",
        "  print(\"El impuesto correspondiente es del 5%\")\n",
        "  men=(sal*.05)\n",
        "  sue=sal-men\n",
        "  print(\"Su salario despues del impuesto es de: \",sue)\n",
        "  print(sal<=10000)\n",
        "elif sal<=15000:\n",
        "    print(\"El impuesto correspondiente es del 10%\")\n",
        "    men=(sal*0.1)\n",
        "    sue=sal-men\n",
        "    print(\"Su salario despues del impuesto es de: \",sue)\n",
        "    print(sal<=15000)\n",
        "elif sal<=20000:\n",
        "    print(\"El impuesto correspondiente es del 15%\")\n",
        "    men=(sal*0.15)\n",
        "    sue=sal-men\n",
        "    print(\"Su salario despues del impuesto es de: \",sue)\n",
        "    print(sal<=20000)\n",
        "elif sal>20000:\n",
        "    print(\"El impuesto correspondiente es del 18%\")\n",
        "    men=(sal*0.18)\n",
        "    sue=sal-men\n",
        "    print(\"Su salario despues del impuesto es de: \",sue)\n",
        "    print(sal>20000)\n"
      ],
      "execution_count": null,
      "outputs": []
    },
    {
      "cell_type": "markdown",
      "metadata": {
        "id": "9vWGuNVyEi52"
      },
      "source": [
        "**PROBLEMA 7**"
      ]
    },
    {
      "cell_type": "code",
      "metadata": {
        "id": "Suw1jTWEEroL"
      },
      "source": [
        "print(\"Esta ingresando al museo, por favor indiqueme su edad: \")\n",
        "ed=int(input())\n",
        "if ed<4:\n",
        "  print(\"La entrada es gratis\")\n",
        "  a=0\n",
        "elif ed<16:\n",
        "  print(\"La entrada tiene un costo de 50 pesos\")\n",
        "  a=50\n",
        "elif ed>16:\n",
        "  print(\"El costo de la entrada es de 100 pesos\")\n",
        "  a=100\n",
        "print(\"Indique a que grupo pertenece: \")\n",
        "print(\"1. Estudiante con credencial\")\n",
        "print(\"2. Docente con credencial\")\n",
        "print(\"3. INAPAM\")\n",
        "des=int(input(\"Seleccione un numero: \"))\n",
        "b=0\n",
        "if des==1:\n",
        "  print(\"Tiene un descuento del 10%\")\n",
        "  b=(a*0.1)\n",
        "elif des==2:\n",
        "  print(\"Tiene un descuento del 30%\")\n",
        "  b=a*0.3\n",
        "elif des==3:\n",
        "  print(\"Tiene un descuento del 50%\")\n",
        "  b=a*0.5\n",
        "else:\n",
        "  print(\"No aplica descuento\")\n",
        "c=a-b\n",
        "print(\"Su total a pagar es de: \",c,\"pesos\")"
      ],
      "execution_count": null,
      "outputs": []
    },
    {
      "cell_type": "markdown",
      "metadata": {
        "id": "1y19XTzpHASR"
      },
      "source": [
        "**PROBLEMA 8**\n",
        "\n",
        "Escribir un programa que pida al usuario un numero entero y muestre en pantalla un trıangulo rectangulo el que se muestra"
      ]
    },
    {
      "cell_type": "code",
      "metadata": {
        "id": "jqwnTfILHLk8"
      },
      "source": [
        "tr=int(input(\"Numero de filas que desea: \"))\n",
        "for i in range(1,tr+1):\n",
        "  print(\"\")\n",
        "  for j in range(1,i+1):\n",
        "    print(\"*  \",end=\"\")"
      ],
      "execution_count": null,
      "outputs": []
    },
    {
      "cell_type": "markdown",
      "metadata": {
        "id": "V8mxARjoH2Tn"
      },
      "source": [
        "**PROBLEMA 9**\n",
        "\n",
        "Escribir una funcion que reciba un numero entero positivo y devuelva su factorial"
      ]
    },
    {
      "cell_type": "code",
      "metadata": {
        "id": "f6TW_y0RH8vL"
      },
      "source": [
        "fac=int(input(\"Ingrese un numero: \"))\n",
        "tori=1\n",
        "for i in range(fac):\n",
        "  tori=tori*fac\n",
        "  fac-=1\n",
        "print(\"El factorial es: \",tori)"
      ],
      "execution_count": null,
      "outputs": []
    },
    {
      "cell_type": "markdown",
      "metadata": {
        "id": "GMjrNAElIVRd"
      },
      "source": [
        "**PROBLEMA 10**\n",
        "\n",
        "Escribir una funcion que calcule el area de un cırculo y ota que calcule el volumen de un cilindro\n",
        "utilizando la primera funcion."
      ]
    },
    {
      "cell_type": "code",
      "metadata": {
        "id": "2JJVlYqYId_2"
      },
      "source": [
        "ci=float(input(\"Introduzca el radio del circulo: \"))\n",
        "pi=3.1416\n",
        "Ar=(pi*(ci**2))\n",
        "print(\"El area es igual a: \",Ar)\n",
        "al=float(input(\"Introduzca la altura del cilindro\"))\n",
        "vol=Ar*al\n",
        "print(\"El volumen es de: \",vol)"
      ],
      "execution_count": null,
      "outputs": []
    }
  ]
}